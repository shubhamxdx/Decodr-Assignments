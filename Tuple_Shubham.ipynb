{
 "cells": [
  {
   "cell_type": "markdown",
   "metadata": {
    "id": "6BrA-4Y0uj1t"
   },
   "source": [
    "[Slide No- 39]\n",
    "\n",
    "1. Create empty tuple and check its Data type."
   ]
  },
  {
   "cell_type": "code",
   "execution_count": 15,
   "metadata": {
    "colab": {
     "base_uri": "https://localhost:8080/"
    },
    "id": "EFzfOlfre9KM",
    "outputId": "e75a0604-5e7b-4be1-f2df-4bdb38a4541a"
   },
   "outputs": [
    {
     "name": "stdout",
     "output_type": "stream",
     "text": [
      "()\n"
     ]
    },
    {
     "data": {
      "text/plain": [
       "tuple"
      ]
     },
     "execution_count": 15,
     "metadata": {
      "tags": []
     },
     "output_type": "execute_result"
    }
   ],
   "source": [
    "tuple=()\n",
    "print(tuple)\n",
    "type(tuple)"
   ]
  },
  {
   "cell_type": "markdown",
   "metadata": {
    "id": "0yF34ew-rA8r"
   },
   "source": [
    "**[Slide No. - 39]**\n",
    "\n",
    "\n",
    "\n",
    "2. Check the output : \n",
    "T1 = (101, \"Peter\", 22)    \n",
    "\n",
    "T2 = (\"Apple\", \"Banana\", \"Orange\") \n",
    "\n",
    "T3 = (10,20,30,40,50)  \n",
    "\n",
    "Print Data type of each tuple."
   ]
  },
  {
   "cell_type": "code",
   "execution_count": 21,
   "metadata": {
    "colab": {
     "base_uri": "https://localhost:8080/"
    },
    "id": "osF6Ro0Je9g7",
    "outputId": "29fb6260-8516-4815-8ba6-462b841e3762"
   },
   "outputs": [
    {
     "name": "stdout",
     "output_type": "stream",
     "text": [
      "<class 'tuple'>\n",
      "<class 'tuple'>\n",
      "<class 'tuple'>\n"
     ]
    }
   ],
   "source": [
    "T1 = (101, \"Peter\", 22)\n",
    "T2 = (\"Apple\", \"Banana\", \"Orange\")\n",
    "T3 = (10,20,30,40,50)\n",
    "\n",
    "print(type(T1))\n",
    "print(type(T2))\n",
    "print(type(T3))\n"
   ]
  },
  {
   "cell_type": "markdown",
   "metadata": {
    "id": "ghTaF2EmrBCJ"
   },
   "source": [
    "**[Slide No. - 40]**\n",
    "\n",
    "3.Write the program to print 0 index item of tuple .\n",
    "\n",
    "tup = (1,2,3,4,5,6,7)\n",
    "\n"
   ]
  },
  {
   "cell_type": "code",
   "execution_count": 25,
   "metadata": {
    "colab": {
     "base_uri": "https://localhost:8080/"
    },
    "id": "SlJWmZ8-P1QU",
    "outputId": "91621787-3489-4d41-ae47-ad8e5a33b9ee"
   },
   "outputs": [
    {
     "name": "stdout",
     "output_type": "stream",
     "text": [
      "1\n"
     ]
    }
   ],
   "source": [
    "tup = (1,2,3,4,5,6,7)\n",
    "print(tup[0])\n"
   ]
  },
  {
   "cell_type": "markdown",
   "metadata": {
    "id": "aZ_qeqMHrBE2"
   },
   "source": [
    "**[Slide No. - 40]**\n",
    "\n",
    "4.  What is the output of the program  \n",
    "\n",
    "tup = (1,2,3,4,5,6,7)\n",
    "\n",
    "print(tup[8])  "
   ]
  },
  {
   "cell_type": "code",
   "execution_count": 27,
   "metadata": {
    "colab": {
     "base_uri": "https://localhost:8080/",
     "height": 189
    },
    "id": "3LsWZNpJe-sr",
    "outputId": "113d7192-3927-48b4-95a4-4d4f8c4a424c"
   },
   "outputs": [
    {
     "ename": "IndexError",
     "evalue": "ignored",
     "output_type": "error",
     "traceback": [
      "\u001b[0;31m---------------------------------------------------------------------------\u001b[0m",
      "\u001b[0;31mIndexError\u001b[0m                                Traceback (most recent call last)",
      "\u001b[0;32m<ipython-input-27-bac1b7ce82f6>\u001b[0m in \u001b[0;36m<module>\u001b[0;34m()\u001b[0m\n\u001b[1;32m      1\u001b[0m \u001b[0mtup\u001b[0m \u001b[0;34m=\u001b[0m \u001b[0;34m(\u001b[0m\u001b[0;36m1\u001b[0m\u001b[0;34m,\u001b[0m\u001b[0;36m2\u001b[0m\u001b[0;34m,\u001b[0m\u001b[0;36m3\u001b[0m\u001b[0;34m,\u001b[0m\u001b[0;36m4\u001b[0m\u001b[0;34m,\u001b[0m\u001b[0;36m5\u001b[0m\u001b[0;34m,\u001b[0m\u001b[0;36m6\u001b[0m\u001b[0;34m,\u001b[0m\u001b[0;36m7\u001b[0m\u001b[0;34m)\u001b[0m\u001b[0;34m\u001b[0m\u001b[0;34m\u001b[0m\u001b[0m\n\u001b[0;32m----> 2\u001b[0;31m \u001b[0mprint\u001b[0m\u001b[0;34m(\u001b[0m\u001b[0mtup\u001b[0m\u001b[0;34m[\u001b[0m\u001b[0;36m8\u001b[0m\u001b[0;34m]\u001b[0m\u001b[0;34m)\u001b[0m\u001b[0;34m\u001b[0m\u001b[0;34m\u001b[0m\u001b[0m\n\u001b[0m",
      "\u001b[0;31mIndexError\u001b[0m: tuple index out of range"
     ]
    }
   ],
   "source": [
    "tup = (1,2,3,4,5,6,7)\n",
    "print(tup[8])\n",
    "#It shows error because tuple only have six indexes\n"
   ]
  },
  {
   "cell_type": "markdown",
   "metadata": {
    "id": "aROdqHSPrBHM"
   },
   "source": [
    "**[Slide No. 40]**\n",
    "\n",
    "5.  Write a program to concate two tuple."
   ]
  },
  {
   "cell_type": "code",
   "execution_count": 31,
   "metadata": {
    "colab": {
     "base_uri": "https://localhost:8080/"
    },
    "id": "kln1QAOLe_Gr",
    "outputId": "0f652b4d-4a43-4bf0-9192-aa4c2740585d"
   },
   "outputs": [
    {
     "name": "stdout",
     "output_type": "stream",
     "text": [
      "(1, 2, 3, 4, 5, 6, 7, 8)\n"
     ]
    }
   ],
   "source": [
    "tuple1=(1,2,3,4)\n",
    "tuple2=(5,6,7,8)\n",
    "tuple3=tuple1+tuple2\n",
    "print(tuple3)\n"
   ]
  },
  {
   "cell_type": "markdown",
   "metadata": {
    "id": "C7BdniSyrBJb"
   },
   "source": [
    "**[Slide No. 40]**\n",
    "\n",
    "6 .  Write a program to create the tuple and delete the items?"
   ]
  },
  {
   "cell_type": "code",
   "execution_count": 1,
   "metadata": {
    "colab": {
     "base_uri": "https://localhost:8080/",
     "height": 207
    },
    "id": "3xy8vNeBYok7",
    "outputId": "9b8d56ff-7960-489e-d6fa-b7190720e987"
   },
   "outputs": [
    {
     "name": "stdout",
     "output_type": "stream",
     "text": [
      "[1, 5]\n"
     ]
    }
   ],
   "source": [
    "tuple=(1,2,3,4,5)\n",
    "list(tuple)\n",
    "list1=list(tuple)\n",
    "del list1[1:4]\n",
    "tuple=list1\n",
    "print(tuple)\n"
   ]
  },
  {
   "cell_type": "markdown",
   "metadata": {
    "id": "rbAjLzFyrBU1"
   },
   "source": [
    "**[Slide No. 40]**\n",
    "\n",
    "7. Write a program to delete  2 index value from  tuples?"
   ]
  },
  {
   "cell_type": "code",
   "execution_count": 2,
   "metadata": {
    "colab": {
     "base_uri": "https://localhost:8080/",
     "height": 207
    },
    "id": "cckHUdKnfAL7",
    "outputId": "b8b9c968-7c93-459d-a97e-4fdbe119d7d8"
   },
   "outputs": [
    {
     "name": "stdout",
     "output_type": "stream",
     "text": [
      "[1, 2, 4, 5]\n"
     ]
    }
   ],
   "source": [
    "tuple=(1,2,3,4,5)\n",
    "list(tuple)\n",
    "list1=list(tuple)\n",
    "del list1[2]\n",
    "tuple=list1\n",
    "print(tuple)\n"
   ]
  },
  {
   "cell_type": "markdown",
   "metadata": {
    "id": "EmyErnscvJyV"
   },
   "source": [
    "**[Slide No. 40]**\n",
    "\n",
    "8. Check the output of \n",
    "tuple1 = (1, 2, 3, 4, 5)    \n",
    "\n",
    "using negative indexing print last two item of tuple\n",
    "\n",
    "using negative indexing print '4' from the tuple\n",
    "\n",
    "using negative indexing print all items of the list \n"
   ]
  },
  {
   "cell_type": "code",
   "execution_count": null,
   "metadata": {
    "colab": {
     "base_uri": "https://localhost:8080/"
    },
    "id": "IkQiPA4neVHN",
    "outputId": "5ee8e0c5-8fa7-49d7-e9a1-a578f120a7b7"
   },
   "outputs": [
    {
     "name": "stdout",
     "output_type": "stream",
     "text": [
      "(4, 5)\n",
      "4\n",
      "(5, 4, 3, 2, 1)\n"
     ]
    }
   ],
   "source": [
    " tuple1 = (1, 2, 3, 4, 5)\n",
    "print(tuple1[-2:])\n",
    "print(tuple1[-2])\n",
    "print(tuple1[::-1])\n"
   ]
  }
 ],
 "metadata": {
  "colab": {
   "collapsed_sections": [],
   "name": "Tuple.ipynb",
   "provenance": []
  },
  "kernelspec": {
   "display_name": "Python 3",
   "language": "python",
   "name": "python3"
  },
  "language_info": {
   "codemirror_mode": {
    "name": "ipython",
    "version": 3
   },
   "file_extension": ".py",
   "mimetype": "text/x-python",
   "name": "python",
   "nbconvert_exporter": "python",
   "pygments_lexer": "ipython3",
   "version": "3.8.8"
  }
 },
 "nbformat": 4,
 "nbformat_minor": 1
}
