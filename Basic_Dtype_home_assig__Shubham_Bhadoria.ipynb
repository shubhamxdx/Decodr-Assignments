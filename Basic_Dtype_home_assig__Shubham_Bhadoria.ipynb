{
  "nbformat": 4,
  "nbformat_minor": 0,
  "metadata": {
    "colab": {
      "name": "Basic_Dtype_home_assig _Shubham Bhadoria.ipynb",
      "provenance": [],
      "collapsed_sections": []
    },
    "kernelspec": {
      "display_name": "Python 3",
      "language": "python",
      "name": "python3"
    },
    "language_info": {
      "codemirror_mode": {
        "name": "ipython",
        "version": 3
      },
      "file_extension": ".py",
      "mimetype": "text/x-python",
      "name": "python",
      "nbconvert_exporter": "python",
      "pygments_lexer": "ipython3",
      "version": "3.8.8"
    }
  },
  "cells": [
    {
      "cell_type": "code",
      "metadata": {
        "id": "zj0qj9Z3vGYT",
        "outputId": "7b19f1e5-a9c3-4732-867b-5cf4364a070b"
      },
      "source": [
        "# print the type of x,y,z\n",
        "\n",
        "x = 1  \n",
        "y = 2.8  \n",
        "z = 1j\n",
        "\n",
        "print(type(x))\n",
        "print(type(y))\n",
        "print(type(z))"
      ],
      "execution_count": null,
      "outputs": [
        {
          "output_type": "stream",
          "text": [
            "<class 'int'>\n",
            "<class 'float'>\n",
            "<class 'complex'>\n"
          ],
          "name": "stdout"
        }
      ]
    },
    {
      "cell_type": "code",
      "metadata": {
        "colab": {
          "base_uri": "https://localhost:8080/"
        },
        "id": "AljHnQDuvT4s",
        "outputId": "4a5fc9d9-3d61-4f17-8392-e6c182e46abd"
      },
      "source": [
        "# Convert flot into int \n",
        "\n",
        "X=1.4\n",
        "x=int(X)\n",
        "print(type(x))"
      ],
      "execution_count": null,
      "outputs": [
        {
          "output_type": "stream",
          "text": [
            "<class 'int'>\n"
          ],
          "name": "stdout"
        }
      ]
    },
    {
      "cell_type": "code",
      "metadata": {
        "id": "WmHRFKd8DB1E"
      },
      "source": [
        "#Convert from one type to another:\n",
        "\n",
        "x = 5   # int\n",
        "y = 3.8  # float\n",
        "z = 5j   # complex\n",
        "\n",
        "#convert from int to float:\n",
        "x=float(5)\n",
        "print(x)\n",
        "\n",
        "#convert from float to int:\n",
        "y=int(3.8)\n",
        "print(y)\n",
        "\n",
        "#convert from int to complex:\n",
        "z=complex(5j)\n",
        "print(z)"
      ],
      "execution_count": null,
      "outputs": []
    },
    {
      "cell_type": "code",
      "metadata": {
        "id": "r1A-a0rSDB1H",
        "outputId": "eea17fac-3fb7-4332-bcaa-b38f2254526e"
      },
      "source": [
        "            #convert from int to float:\n",
        "x=5\n",
        "print(type(x))\n",
        "x=float(5)\n",
        "print(x)\n",
        "print(type(x))"
      ],
      "execution_count": null,
      "outputs": [
        {
          "output_type": "stream",
          "text": [
            "<class 'int'>\n",
            "5.0\n",
            "<class 'float'>\n"
          ],
          "name": "stdout"
        }
      ]
    },
    {
      "cell_type": "code",
      "metadata": {
        "id": "DWFlCfoDDB1M",
        "outputId": "bbde76b5-ffec-4d24-9800-fcc4b3660bce"
      },
      "source": [
        "            #convert from float to int:\n",
        "y=3.8\n",
        "print(type(y))\n",
        "y=int(3.8)\n",
        "print(y)\n",
        "print(type(y))"
      ],
      "execution_count": null,
      "outputs": [
        {
          "output_type": "stream",
          "text": [
            "<class 'float'>\n",
            "3\n",
            "<class 'int'>\n"
          ],
          "name": "stdout"
        }
      ]
    },
    {
      "cell_type": "code",
      "metadata": {
        "id": "0FFn1ne3DB1P",
        "outputId": "2eef2d96-269d-48f7-8927-f7e2b19e0782"
      },
      "source": [
        "           #convert from int to complex:\n",
        "z = 5j\n",
        "type(complex(z))"
      ],
      "execution_count": null,
      "outputs": [
        {
          "output_type": "execute_result",
          "data": {
            "text/plain": [
              "complex"
            ]
          },
          "metadata": {
            "tags": []
          },
          "execution_count": 167
        }
      ]
    },
    {
      "cell_type": "code",
      "metadata": {
        "id": "Rm34yvYbweTT",
        "outputId": "43ec42e9-cd26-4666-b61a-66a51b8dacf4"
      },
      "source": [
        "# Print 15 random numbers\n",
        "\n",
        "import random\n",
        "\n",
        "print(random.randrange(1, 15) )"
      ],
      "execution_count": null,
      "outputs": [
        {
          "output_type": "stream",
          "text": [
            "9\n"
          ],
          "name": "stdout"
        }
      ]
    },
    {
      "cell_type": "code",
      "metadata": {
        "id": "eXkc7b3yxYpN"
      },
      "source": [
        "# Convert int ,float to string \n",
        "\n",
        "x = _____(\"t5\") \n",
        "y = ____(4)    \n",
        "z = ____(6.0)"
      ],
      "execution_count": null,
      "outputs": []
    },
    {
      "cell_type": "code",
      "metadata": {
        "id": "1OsekFZgDB1V",
        "outputId": "33c1e5d5-4e39-4270-e806-6328d3f723d5"
      },
      "source": [
        "                #This is already string\n",
        "x = (\"t5\")\n",
        "print(type(x))"
      ],
      "execution_count": null,
      "outputs": [
        {
          "output_type": "stream",
          "text": [
            "<class 'str'>\n"
          ],
          "name": "stdout"
        }
      ]
    },
    {
      "cell_type": "code",
      "metadata": {
        "id": "TMu9DCxODB1X",
        "outputId": "b22229fd-982e-490e-a8f5-af0514026f0e"
      },
      "source": [
        "               #Converted Int to Str\n",
        "y = 4\n",
        "print(type(y))\n",
        "str(y)         \n",
        "type(str(z))"
      ],
      "execution_count": null,
      "outputs": [
        {
          "output_type": "stream",
          "text": [
            "<class 'int'>\n"
          ],
          "name": "stdout"
        },
        {
          "output_type": "execute_result",
          "data": {
            "text/plain": [
              "str"
            ]
          },
          "metadata": {
            "tags": []
          },
          "execution_count": 132
        }
      ]
    },
    {
      "cell_type": "code",
      "metadata": {
        "id": "1ElhZJ0XDB1Y",
        "outputId": "5d8a7d79-e784-43f3-991a-8c58e3323121"
      },
      "source": [
        "              #Converted Float to Str\n",
        "z = (6.0)\n",
        "print(type(z))\n",
        "str(z)        \n",
        "type(str(z))"
      ],
      "execution_count": null,
      "outputs": [
        {
          "output_type": "stream",
          "text": [
            "<class 'float'>\n"
          ],
          "name": "stdout"
        },
        {
          "output_type": "execute_result",
          "data": {
            "text/plain": [
              "str"
            ]
          },
          "metadata": {
            "tags": []
          },
          "execution_count": 131
        }
      ]
    },
    {
      "cell_type": "code",
      "metadata": {
        "id": "RDquS0nfxB81",
        "outputId": "a22b632f-9df2-4fac-9fa5-ae89fd839afa"
      },
      "source": [
        "# Assign a string to variable \n",
        "\n",
        "a=\"Hello\"\n",
        "print(a)"
      ],
      "execution_count": null,
      "outputs": [
        {
          "output_type": "stream",
          "text": [
            "Hello\n"
          ],
          "name": "stdout"
        }
      ]
    },
    {
      "cell_type": "code",
      "metadata": {
        "colab": {
          "base_uri": "https://localhost:8080/"
        },
        "id": "RH-g9oUdypcy",
        "outputId": "62269c11-7039-44c8-a96f-d4f4f3eeb261"
      },
      "source": [
        "# Concatenate two string \n",
        "a=\"Hello raj?\"\n",
        "b=\"Hi Manish.\"\n",
        "c=\"How are you.\"\n",
        "d=\"I am fine.\"\n",
        "\n",
        "print(a+b+c+d)"
      ],
      "execution_count": null,
      "outputs": [
        {
          "output_type": "stream",
          "text": [
            "Hello raj?Hi Manish.How are you.I am fine.\n"
          ],
          "name": "stdout"
        }
      ]
    },
    {
      "cell_type": "code",
      "metadata": {
        "colab": {
          "base_uri": "https://localhost:8080/"
        },
        "id": "Z4z8NPqxzXsS",
        "outputId": "c936dddb-0bac-4fb0-a879-3d51da82df73"
      },
      "source": [
        "# Print the output='lo, Wor'\n",
        "a = \"Hello, World!\"\n",
        "print(a[3:-3])"
      ],
      "execution_count": null,
      "outputs": [
        {
          "output_type": "stream",
          "text": [
            "lo, Wor\n"
          ],
          "name": "stdout"
        }
      ]
    },
    {
      "cell_type": "code",
      "metadata": {
        "id": "maTfRVHrzA-2",
        "colab": {
          "base_uri": "https://localhost:8080/"
        },
        "outputId": "9554f3e0-1bd1-43c7-8c27-089451a312c0"
      },
      "source": [
        "# Check the required string/word is in the sentence of not\n",
        "\n",
        "Sentence=\"Hello Indian , I like you culture.\"\n",
        "\n",
        "print('like in', Sentence)\n"
      ],
      "execution_count": 8,
      "outputs": [
        {
          "output_type": "stream",
          "text": [
            "like in Hello Indian , I like you culture.\n"
          ],
          "name": "stdout"
        }
      ]
    },
    {
      "cell_type": "code",
      "metadata": {
        "id": "eyFT8KlO0cMk",
        "outputId": "d7629648-c885-49c3-a7a8-52a361fcfc55"
      },
      "source": [
        "# Print the output='I Love'\n",
        "Sentence=\"I Love India!\"\n",
        "print(Sentence[0:6])"
      ],
      "execution_count": null,
      "outputs": [
        {
          "output_type": "stream",
          "text": [
            "I Love\n"
          ],
          "name": "stdout"
        }
      ]
    },
    {
      "cell_type": "code",
      "metadata": {
        "id": "VP50WkkomLu8",
        "outputId": "fcfd64fe-065d-408a-fc84-3f4246bba8af"
      },
      "source": [
        "#print the output: \n",
        "#I want to pay 49.95 dollars for 3 pieces of item 567\n",
        "\n",
        "quantity = 3\n",
        "itemno = 567\n",
        "price = 49.95\n",
        "myorder = \"I want to pay {2} dollars for {0} pieces of item {1}.\"\n",
        "print(myorder.format(price, quantity, itemno)) "
      ],
      "execution_count": null,
      "outputs": [
        {
          "output_type": "stream",
          "text": [
            "I want to pay 567 dollars for 49.95 pieces of item 3.\n"
          ],
          "name": "stdout"
        }
      ]
    },
    {
      "cell_type": "code",
      "metadata": {
        "id": "3oP1LjEJDB1g",
        "outputId": "550c222d-1a67-44b3-eb9d-17f98d81fece"
      },
      "source": [
        "# remove the error\n",
        "Sent = \"We will vist \\\"America\\\" after two days.\"             # by using escape character \\\n",
        "print(Sent)"
      ],
      "execution_count": null,
      "outputs": [
        {
          "output_type": "stream",
          "text": [
            "We will vist \"America\" after two days.\n"
          ],
          "name": "stdout"
        }
      ]
    },
    {
      "cell_type": "code",
      "metadata": {
        "colab": {
          "base_uri": "https://localhost:8080/"
        },
        "id": "NASyDsBbofMs",
        "outputId": "b20ebd1a-7ce6-4c30-a7a5-c1da915c7810"
      },
      "source": [
        "# Print the sentence after comma in next line \n",
        "Sent=\" Hii Mona ,\\n When will we go for holidays ?  \"         # by using escape character \\n\n",
        "print(Sent)"
      ],
      "execution_count": null,
      "outputs": [
        {
          "output_type": "stream",
          "text": [
            " Hii Mona ,\n",
            " When will we go for holidays ?  \n"
          ],
          "name": "stdout"
        }
      ]
    },
    {
      "cell_type": "code",
      "metadata": {
        "colab": {
          "base_uri": "https://localhost:8080/"
        },
        "id": "zm_NAFugDB12",
        "outputId": "886db60a-c5fd-4a44-dd5d-cd825685db04"
      },
      "source": [
        "# Remove the duplicate from the list \n",
        "\n",
        "List=[\"Ram\",'Sam','Nick','Sam']\n",
        "a=set(List)\n",
        "print(a)\n"
      ],
      "execution_count": null,
      "outputs": [
        {
          "output_type": "stream",
          "text": [
            "{'Sam', 'Nick', 'Ram'}\n"
          ],
          "name": "stdout"
        }
      ]
    },
    {
      "cell_type": "code",
      "metadata": {
        "id": "eZfO5og7qk56",
        "outputId": "9da3e4fb-9957-4a2f-c258-3e6c8e1cb83e"
      },
      "source": [
        "# Print last for element of list by negative Indexing \n",
        "\n",
        "Fruit_list = [\"apple\", \"banana\", \"cherry\", \"orange\", \"kiwi\", \"melon\", \"mango\"]\n",
        "print(Fruit_list[-4:])"
      ],
      "execution_count": null,
      "outputs": [
        {
          "output_type": "stream",
          "text": [
            "['orange', 'kiwi', 'melon', 'mango']\n"
          ],
          "name": "stdout"
        }
      ]
    },
    {
      "cell_type": "code",
      "metadata": {
        "id": "mPJFzwewrEij",
        "outputId": "fd038b08-4ae3-4637-d46d-d75af8456390"
      },
      "source": [
        "# Replace the first Sam from Micky\n",
        "List=[\"Ram\",'Sam','Nick','Sam']\n",
        "List[1]=\"Micky\"\n",
        "print(List)"
      ],
      "execution_count": null,
      "outputs": [
        {
          "output_type": "stream",
          "text": [
            "['Ram', 'Micky', 'Nick', 'Sam']\n"
          ],
          "name": "stdout"
        }
      ]
    },
    {
      "cell_type": "code",
      "metadata": {
        "id": "pSGdFz2srUMA",
        "outputId": "dfa9720b-d788-4df4-e720-8e6a9b6204db"
      },
      "source": [
        "# Insert the Micky at 3rd index\n",
        "List=[\"Ram\",'Sam','Nick','Sam']\n",
        "List.insert(3,\"Micky\")\n",
        "print(List)"
      ],
      "execution_count": null,
      "outputs": [
        {
          "output_type": "stream",
          "text": [
            "['Ram', 'Sam', 'Nick', 'Micky', 'Sam']\n"
          ],
          "name": "stdout"
        }
      ]
    },
    {
      "cell_type": "code",
      "metadata": {
        "id": "VwK2FyRrroiY",
        "outputId": "33bae5c7-c206-4dd3-a19c-c0730d4abc8c"
      },
      "source": [
        "# Insert Kiwi in a tuple\n",
        "\n",
        "x = (\"apple\", \"banana\", \"cherry\")\n",
        "y = list(x)\n",
        "print(y)\n",
        "y.insert(1,\"kiwi\")\n",
        "print(y)\n",
        "x=tuple(y)\n",
        "print(x)"
      ],
      "execution_count": null,
      "outputs": [
        {
          "output_type": "stream",
          "text": [
            "['apple', 'banana', 'cherry']\n",
            "['apple', 'kiwi', 'banana', 'cherry']\n",
            "('apple', 'kiwi', 'banana', 'cherry')\n"
          ],
          "name": "stdout"
        }
      ]
    },
    {
      "cell_type": "code",
      "metadata": {
        "id": "UUky7WT4tnRM",
        "outputId": "4bf762b0-deb5-48e7-c18e-7e3be5ffe8ae"
      },
      "source": [
        "# Add item in set\n",
        "\n",
        "Fruits = {\"apple\", \"banana\", \"cherry\"}\n",
        "\n",
        "Fruits.add(\"Mango\")\n",
        "\n",
        "print(Fruits)"
      ],
      "execution_count": null,
      "outputs": [
        {
          "output_type": "stream",
          "text": [
            "{'banana', 'cherry', 'apple', 'Mango'}\n"
          ],
          "name": "stdout"
        }
      ]
    },
    {
      "cell_type": "code",
      "metadata": {
        "id": "NKHoF69hueSK",
        "outputId": "c0f113dc-7e5d-4c7e-e9af-b17deb23c71b"
      },
      "source": [
        "# Add two set\n",
        "Fruit1 = {\"apple\", \"banana\", \"cherry\"}\n",
        "Fruit2 = {\"pineapple\", \"mango\", \"papaya\"}\n",
        "Fruit1.update(Fruit2)\n",
        "print(Fruit1)"
      ],
      "execution_count": null,
      "outputs": [
        {
          "output_type": "stream",
          "text": [
            "{'banana', 'mango', 'cherry', 'pineapple', 'apple', 'papaya'}\n"
          ],
          "name": "stdout"
        }
      ]
    },
    {
      "cell_type": "code",
      "metadata": {
        "id": "Z5YUZ2dUvbwK",
        "outputId": "674ac21d-91ac-4507-f34e-9ba1dc98800b"
      },
      "source": [
        "# Remove the any item from the set\n",
        " \n",
        "set={\"Krishh\",\"Prince\",\"KUmar\"}\n",
        "set.remove(\"Prince\")\n",
        "print(set)"
      ],
      "execution_count": null,
      "outputs": [
        {
          "output_type": "stream",
          "text": [
            "{'KUmar', 'Krishh'}\n"
          ],
          "name": "stdout"
        }
      ]
    },
    {
      "cell_type": "code",
      "metadata": {
        "id": "_f_XIOsVvtz5",
        "outputId": "86eeff04-9bfb-4f12-bbad-8031cb218645"
      },
      "source": [
        "#Add a new item to the original dictionary, and see that the keys list gets updated as well:\n",
        "Bike = {\n",
        "\"brand\": \"Bajaj\",\n",
        "\"model\": \"TVS\",\n",
        "\"year\": 2013\n",
        "}\n",
        "\n",
        "x = Bike.keys()\n",
        "\n",
        "print(x) #before the change\n",
        "\n",
        "print(x)\n",
        "\n",
        "Bike[\"cc\"] = \"180\"\n",
        "\n",
        "print(x) #after the change\n",
        "print(x)\n",
        "print(Bike)"
      ],
      "execution_count": null,
      "outputs": [
        {
          "output_type": "stream",
          "text": [
            "dict_keys(['brand', 'model', 'year'])\n",
            "dict_keys(['brand', 'model', 'year'])\n",
            "dict_keys(['brand', 'model', 'year', 'cc'])\n",
            "dict_keys(['brand', 'model', 'year', 'cc'])\n",
            "{'brand': 'Bajaj', 'model': 'TVS', 'year': 2013, 'cc': '180'}\n"
          ],
          "name": "stdout"
        }
      ]
    },
    {
      "cell_type": "code",
      "metadata": {
        "id": "m8OtEPYfwaqX",
        "outputId": "38782963-f9b8-49f5-c6fc-a13367fefea9"
      },
      "source": [
        "#Update the item from the Dict\n",
        "Car = {\n",
        "  \"brand\": \"Ford\",\n",
        "  \"model\": \"Mustang\",\n",
        "  \"year\": 1964\n",
        "}\n",
        "Car.update({\"year\": 2020})\n",
        "print(Car)"
      ],
      "execution_count": null,
      "outputs": [
        {
          "output_type": "stream",
          "text": [
            "{'brand': 'Ford', 'model': 'Mustang', 'year': 2020}\n"
          ],
          "name": "stdout"
        }
      ]
    },
    {
      "cell_type": "code",
      "metadata": {
        "id": "IknZvic6wvIo",
        "outputId": "1d53721a-a7fa-4ed2-d212-c6c656d8a28a"
      },
      "source": [
        "car = {\n",
        "  \"brand\": \"Ford\",\n",
        "  \"model\": \"Mustang\",\n",
        "  \"year\": 1964\n",
        "}\n",
        "car.items()\n",
        "print(car)"
      ],
      "execution_count": null,
      "outputs": [
        {
          "output_type": "stream",
          "text": [
            "{'brand': 'Ford', 'model': 'Mustang', 'year': 1964}\n"
          ],
          "name": "stdout"
        }
      ]
    }
  ]
}