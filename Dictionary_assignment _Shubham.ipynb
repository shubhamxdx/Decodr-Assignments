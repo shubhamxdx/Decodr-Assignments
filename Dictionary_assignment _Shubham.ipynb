{
  "nbformat": 4,
  "nbformat_minor": 0,
  "metadata": {
    "colab": {
      "name": "Dictionary_assignment.ipynb",
      "provenance": [],
      "collapsed_sections": []
    },
    "kernelspec": {
      "name": "python3",
      "display_name": "Python 3"
    },
    "language_info": {
      "name": "python"
    }
  },
  "cells": [
    {
      "cell_type": "markdown",
      "metadata": {
        "id": "24kR8DnAEDne"
      },
      "source": [
        "**[Slide No. 47]**\n",
        "\n",
        "1. Create a empty Dictionary and check its Data type."
      ]
    },
    {
      "cell_type": "code",
      "metadata": {
        "id": "mHhKHu13oltD",
        "colab": {
          "base_uri": "https://localhost:8080/"
        },
        "outputId": "c1dff029-fe9e-4cfe-f869-89224c7a4a7b"
      },
      "source": [
        "a={}\n",
        "print(type(a))"
      ],
      "execution_count": 3,
      "outputs": [
        {
          "output_type": "stream",
          "text": [
            "<class 'dict'>\n"
          ],
          "name": "stdout"
        }
      ]
    },
    {
      "cell_type": "markdown",
      "metadata": {
        "id": "osWsIyfiENG9"
      },
      "source": [
        "**[Slide No.48]**\n",
        "\n",
        "2.  Write a Python program  to add a key to a dictionary\n",
        "\n",
        "Sample Dictionary : {0: 10, 1: 20}\n",
        "\n",
        "Expected Result : {0: 10, 1: 20, 2: 30}"
      ]
    },
    {
      "cell_type": "code",
      "metadata": {
        "id": "pNtCGJmlolLo",
        "colab": {
          "base_uri": "https://localhost:8080/"
        },
        "outputId": "cf18248a-8dd9-4d42-a01e-ee5f306c578d"
      },
      "source": [
        "d = {0:10, 1:20}\n",
        "print(d)\n",
        "d.update({2:30})\n",
        "print(d)"
      ],
      "execution_count": 19,
      "outputs": [
        {
          "output_type": "stream",
          "text": [
            "{0: 10, 1: 20}\n",
            "{0: 10, 1: 20, 2: 30}\n"
          ],
          "name": "stdout"
        }
      ]
    },
    {
      "cell_type": "markdown",
      "metadata": {
        "id": "Zu0BHrf1Ej1d"
      },
      "source": [
        "**[Slide No. 48]**\n",
        "\n",
        "3.  Write a Python script to concatenate following dictionaries to create a new one.\n",
        "\n",
        "Sample Dictionary :\n",
        "\n",
        "dic1={1:10, 2:20}\n",
        "\n",
        "dic2={3:30, 4:40}\n",
        "\n",
        "dic3={5:50,6:60}\n",
        "\n",
        "Expected Result : {1: 10, 2: 20, 3: 30, 4: 40, 5: 50, 6: 60}"
      ]
    },
    {
      "cell_type": "code",
      "metadata": {
        "id": "itk1nmgxomLv",
        "colab": {
          "base_uri": "https://localhost:8080/"
        },
        "outputId": "8837e056-f16a-44b1-d035-5564e7390a47"
      },
      "source": [
        "dic1={1:10, 2:20}\n",
        "dic2={3:30, 4:40}\n",
        "dic3={5:50,6:60}\n",
        "dic4 = {}\n",
        "for d in (dic1, dic2, dic3): dic4.update(d)\n",
        "print(dic4)"
      ],
      "execution_count": 25,
      "outputs": [
        {
          "output_type": "stream",
          "text": [
            "{1: 10, 2: 20, 3: 30, 4: 40, 5: 50, 6: 60}\n"
          ],
          "name": "stdout"
        }
      ]
    },
    {
      "cell_type": "markdown",
      "metadata": {
        "id": "veyD5dq5E1N8"
      },
      "source": [
        "**[Slide No. 48]**\n",
        "\n",
        "4. Write a program to create Dictionary and add new item in it."
      ]
    },
    {
      "cell_type": "code",
      "metadata": {
        "id": "9-WHcVwAomr6",
        "colab": {
          "base_uri": "https://localhost:8080/"
        },
        "outputId": "aa3f334e-6839-4ef4-ca1d-9647b7580ded"
      },
      "source": [
        "dict1 = {\"brand\": \"Ford\",\"model\": \"Mustang\", \"year\": 1964}\n",
        "dict1[\"color\"] = \"red\"\n",
        "print(dict1)"
      ],
      "execution_count": 33,
      "outputs": [
        {
          "output_type": "stream",
          "text": [
            "{'brand': 'Ford', 'model': 'Mustang', 'year': 1964, 'color': 'red'}\n"
          ],
          "name": "stdout"
        }
      ]
    },
    {
      "cell_type": "markdown",
      "metadata": {
        "id": "RfJujduxFLpC"
      },
      "source": [
        "**[Slide No. 48]**\n",
        "\n",
        "5. Write a program to create Dictionary and delete the item at 3 index . "
      ]
    },
    {
      "cell_type": "code",
      "metadata": {
        "id": "zSUrG-QDonHH",
        "colab": {
          "base_uri": "https://localhost:8080/"
        },
        "outputId": "5a4f5d1a-6796-40b9-9912-1537ab7401ae"
      },
      "source": [
        "mydict = {\"A\":\"Apple\", \"B\":\"Boy\", \"C\":\"Cat\", \"D\":\"Dog\",\"E\": \"Elephant\"}\n",
        "mydict.pop('D')\n",
        "print(mydict)"
      ],
      "execution_count": 6,
      "outputs": [
        {
          "output_type": "stream",
          "text": [
            "{'A': 'Apple', 'B': 'Boy', 'C': 'Cat', 'E': 'Elephant'}\n"
          ],
          "name": "stdout"
        }
      ]
    },
    {
      "cell_type": "markdown",
      "metadata": {
        "id": "zjee54MuFZZ7"
      },
      "source": [
        "**[Slide No. 48]**\n",
        "\n",
        "6. Write a program to create dictionary and delete last item from it."
      ]
    },
    {
      "cell_type": "code",
      "metadata": {
        "id": "gVtqF24Wonln",
        "colab": {
          "base_uri": "https://localhost:8080/"
        },
        "outputId": "208cdbe2-d1f1-416d-8c91-c7ccf50ed3a1"
      },
      "source": [
        "mydict = {\"A\":\"Apple\", \"B\":\"Boy\", \"C\":\"Cat\", \"D\":\"Elephant\"}\n",
        "del mydict[\"D\"]\n",
        "print(mydict)\n"
      ],
      "execution_count": 50,
      "outputs": [
        {
          "output_type": "stream",
          "text": [
            "{'A': 'Apple', 'B': 'Boy', 'C': 'Cat'}\n"
          ],
          "name": "stdout"
        }
      ]
    },
    {
      "cell_type": "markdown",
      "metadata": {
        "id": "R9W-fDghF002"
      },
      "source": [
        "**[Slide No. 49]**\n",
        "\n",
        "7. Create a dictionary and print the item at 2nd index value."
      ]
    },
    {
      "cell_type": "code",
      "metadata": {
        "id": "seEctrJAon-3",
        "colab": {
          "base_uri": "https://localhost:8080/",
          "height": 35
        },
        "outputId": "cc854fb5-a161-4e8a-e413-cdabd402d929"
      },
      "source": [
        "mydict = {\"1\":\"Apple\", \"2\":\"Boy\", \"3\":\"Cat\", \"4\":\"Elephant\"}\n",
        "mydict[\"3\"]"
      ],
      "execution_count": 11,
      "outputs": [
        {
          "output_type": "execute_result",
          "data": {
            "application/vnd.google.colaboratory.intrinsic+json": {
              "type": "string"
            },
            "text/plain": [
              "'Cat'"
            ]
          },
          "metadata": {
            "tags": []
          },
          "execution_count": 11
        }
      ]
    },
    {
      "cell_type": "markdown",
      "metadata": {
        "id": "Hk9Oaiitvpu0"
      },
      "source": [
        "**[Slide No. 49]**\n",
        "\n",
        "8. Create a Dictionary and change the range of key value ."
      ]
    },
    {
      "cell_type": "code",
      "metadata": {
        "id": "jtznb02Oh5rg",
        "colab": {
          "base_uri": "https://localhost:8080/"
        },
        "outputId": "586ee8b5-367b-4442-ee14-f3b37dc029a7"
      },
      "source": [
        "dict1={'a':12, 'b':15, 'c':20}\n",
        "dict1['c']=33\n",
        "print(dict1)\n"
      ],
      "execution_count": 17,
      "outputs": [
        {
          "output_type": "stream",
          "text": [
            "{'a': 12, 'b': 15, 'c': 33}\n"
          ],
          "name": "stdout"
        }
      ]
    }
  ]
}