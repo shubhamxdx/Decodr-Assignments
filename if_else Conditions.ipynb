{
 "cells": [
  {
   "cell_type": "markdown",
   "metadata": {
    "id": "R4WDgVjUKTuW"
   },
   "source": [
    "**[Slide no.52]**\n",
    "\n",
    "1. write a program to Check wheather the age entered by user is above 18 or not?"
   ]
  },
  {
   "cell_type": "code",
   "execution_count": null,
   "metadata": {
    "colab": {
     "base_uri": "https://localhost:8080/"
    },
    "executionInfo": {
     "elapsed": 30788,
     "status": "ok",
     "timestamp": 1621065867985,
     "user": {
      "displayName": "Krishan Kumar",
      "photoUrl": "https://lh3.googleusercontent.com/a-/AOh14GhGCfRaN8eflNZnn3j4IvdJBbx3PDe5oIzIoOns=s64",
      "userId": "18202960681063087063"
     },
     "user_tz": 420
    },
    "id": "QUYDTLIKKVM3",
    "outputId": "63c09724-d9b2-4bb7-d118-991818631100"
   },
   "outputs": [],
   "source": []
  },
  {
   "cell_type": "markdown",
   "metadata": {
    "id": "UtMMk_C_KVaA"
   },
   "source": [
    "**[Slide No. 52]**\n",
    "\n",
    "2. Write a program to check number entered is even or not ?"
   ]
  },
  {
   "cell_type": "code",
   "execution_count": null,
   "metadata": {
    "colab": {
     "base_uri": "https://localhost:8080/"
    },
    "executionInfo": {
     "elapsed": 3991,
     "status": "ok",
     "timestamp": 1621066043501,
     "user": {
      "displayName": "Krishan Kumar",
      "photoUrl": "https://lh3.googleusercontent.com/a-/AOh14GhGCfRaN8eflNZnn3j4IvdJBbx3PDe5oIzIoOns=s64",
      "userId": "18202960681063087063"
     },
     "user_tz": 420
    },
    "id": "tdX72iluKVu5",
    "outputId": "9c523ea3-d533-4d80-85ca-975dd152c69e"
   },
   "outputs": [],
   "source": []
  },
  {
   "cell_type": "markdown",
   "metadata": {
    "id": "Pf8qWzurKWDn"
   },
   "source": [
    "**[Slide No. 53]**\n",
    "\n",
    "3. Write a program to print largest number from three given numbers."
   ]
  },
  {
   "cell_type": "code",
   "execution_count": null,
   "metadata": {
    "colab": {
     "base_uri": "https://localhost:8080/"
    },
    "executionInfo": {
     "elapsed": 9131,
     "status": "ok",
     "timestamp": 1621066337241,
     "user": {
      "displayName": "Krishan Kumar",
      "photoUrl": "https://lh3.googleusercontent.com/a-/AOh14GhGCfRaN8eflNZnn3j4IvdJBbx3PDe5oIzIoOns=s64",
      "userId": "18202960681063087063"
     },
     "user_tz": 420
    },
    "id": "RlgJ1ag0MjCy",
    "outputId": "0335a641-99e3-486b-8088-8632b1d184cd"
   },
   "outputs": [],
   "source": []
  },
  {
   "cell_type": "markdown",
   "metadata": {
    "id": "lXjKH26aKWHy"
   },
   "source": [
    "**[Slide No.54]**\n",
    "\n",
    "4. Write a program to check whether the user enter number is 10,50 and 100 .\n",
    "\n"
   ]
  },
  {
   "cell_type": "code",
   "execution_count": null,
   "metadata": {
    "colab": {
     "base_uri": "https://localhost:8080/"
    },
    "executionInfo": {
     "elapsed": 4435,
     "status": "ok",
     "timestamp": 1621066561856,
     "user": {
      "displayName": "Krishan Kumar",
      "photoUrl": "https://lh3.googleusercontent.com/a-/AOh14GhGCfRaN8eflNZnn3j4IvdJBbx3PDe5oIzIoOns=s64",
      "userId": "18202960681063087063"
     },
     "user_tz": 420
    },
    "id": "4IsUverrMj-s",
    "outputId": "b55c981a-f183-482b-d520-4142352ba998"
   },
   "outputs": [],
   "source": []
  },
  {
   "cell_type": "markdown",
   "metadata": {
    "id": "hzFpudkgKWhJ"
   },
   "source": [
    "**[Slide No. 54]**\n",
    "\n",
    "5. Write a program to check given number is multiple of 6 or not ."
   ]
  },
  {
   "cell_type": "code",
   "execution_count": null,
   "metadata": {
    "id": "GcyVovq0y9Ak"
   },
   "outputs": [],
   "source": []
  },
  {
   "cell_type": "markdown",
   "metadata": {
    "id": "ih7KTp-1HD9F"
   },
   "source": [
    "6.Write av program to check enter number is prime or not"
   ]
  },
  {
   "cell_type": "code",
   "execution_count": null,
   "metadata": {
    "colab": {
     "base_uri": "https://localhost:8080/"
    },
    "executionInfo": {
     "elapsed": 1274,
     "status": "ok",
     "timestamp": 1621067116801,
     "user": {
      "displayName": "Krishan Kumar",
      "photoUrl": "https://lh3.googleusercontent.com/a-/AOh14GhGCfRaN8eflNZnn3j4IvdJBbx3PDe5oIzIoOns=s64",
      "userId": "18202960681063087063"
     },
     "user_tz": 420
    },
    "id": "XCZTMjr0HDg-",
    "outputId": "8a3f08ff-48d8-41ee-f184-75041654e251"
   },
   "outputs": [],
   "source": [
    "\n",
    "\n"
   ]
  },
  {
   "cell_type": "code",
   "execution_count": null,
   "metadata": {
    "id": "AzGl-zkySUA1"
   },
   "outputs": [],
   "source": []
  },
  {
   "cell_type": "code",
   "execution_count": null,
   "metadata": {},
   "outputs": [],
   "source": []
  }
 ],
 "metadata": {
  "colab": {
   "collapsed_sections": [],
   "name": "Conditions_solution.ipynb",
   "provenance": []
  },
  "kernelspec": {
   "display_name": "Python 3",
   "language": "python",
   "name": "python3"
  },
  "language_info": {
   "codemirror_mode": {
    "name": "ipython",
    "version": 3
   },
   "file_extension": ".py",
   "mimetype": "text/x-python",
   "name": "python",
   "nbconvert_exporter": "python",
   "pygments_lexer": "ipython3",
   "version": "3.8.5"
  }
 },
 "nbformat": 4,
 "nbformat_minor": 1
}
