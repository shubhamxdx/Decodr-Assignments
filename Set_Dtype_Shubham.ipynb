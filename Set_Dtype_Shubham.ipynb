{
 "cells": [
  {
   "cell_type": "markdown",
   "metadata": {
    "id": "jh5m4BfimJbE"
   },
   "source": [
    "**[Slide No. 41]**\n",
    "\n",
    "1. Write a Python program to create a set."
   ]
  },
  {
   "cell_type": "code",
   "execution_count": 3,
   "metadata": {
    "colab": {
     "base_uri": "https://localhost:8080/"
    },
    "id": "CTpqrX9_n3Sc",
    "outputId": "dddef03f-1404-4f1f-e806-e6404fee5395"
   },
   "outputs": [
    {
     "name": "stdout",
     "output_type": "stream",
     "text": [
      "{1, 2, 3, 5.6, 'abc'}\n"
     ]
    }
   ],
   "source": [
    "set={1,2,3,5.6, \"abc\"}\n",
    "print(set)\n"
   ]
  },
  {
   "cell_type": "markdown",
   "metadata": {
    "id": "u1lQCDqqmJvW"
   },
   "source": [
    "**[Slide No.41]**\n",
    "\n",
    "2. Write a Python program to add member(s) in a set."
   ]
  },
  {
   "cell_type": "code",
   "execution_count": 26,
   "metadata": {
    "colab": {
     "base_uri": "https://localhost:8080/"
    },
    "id": "0RpdIr1Det8Q",
    "outputId": "50dea5db-2328-4808-d010-b64bb1a0971b"
   },
   "outputs": [
    {
     "name": "stdout",
     "output_type": "stream",
     "text": [
      "{1, 2, 3, 4, 5}\n"
     ]
    }
   ],
   "source": [
    "set1 = {1,2,3,4}\n",
    "set1.add(5)\n",
    "print(set1)"
   ]
  },
  {
   "cell_type": "markdown",
   "metadata": {
    "id": "_K8Yt3yCmJy7"
   },
   "source": [
    "**[Slide No. 41]**\n",
    " \n",
    " 3. Write a Python program to add string , int, list and float  member(s) in a set."
   ]
  },
  {
   "cell_type": "code",
   "execution_count": 49,
   "metadata": {
    "colab": {
     "base_uri": "https://localhost:8080/"
    },
    "id": "LRjHXMPXn4RT",
    "outputId": "5b0fd9a5-ed7b-4403-e3eb-ca56f7aea0ae"
   },
   "outputs": [
    {
     "name": "stdout",
     "output_type": "stream",
     "text": [
      "{1.6, 4, 5, 6, 8, 9, 10, 123, 'abc'}\n"
     ]
    }
   ],
   "source": [
    "set={123}\n",
    "string=[\"abc\"]\n",
    "integer={4,5,6}\n",
    "list1=[8,9,10]\n",
    "float=[1.6]\n",
    "set.update(string,integer,list1,float)\n",
    "print(set)"
   ]
  },
  {
   "cell_type": "markdown",
   "metadata": {
    "id": "eP30xm0cmJ2K"
   },
   "source": [
    "**[Slide No. 41]**\n",
    "\n",
    "4. Write a program to add multiple element in set. "
   ]
  },
  {
   "cell_type": "code",
   "execution_count": 53,
   "metadata": {
    "colab": {
     "base_uri": "https://localhost:8080/"
    },
    "id": "wIt1MXX2n4va",
    "outputId": "ec6a1c6f-17b6-4e1a-8337-f560056425d0"
   },
   "outputs": [
    {
     "name": "stdout",
     "output_type": "stream",
     "text": [
      "{1, 2, 3, 4, 5, 6}\n"
     ]
    }
   ],
   "source": [
    "set={1,2,3}\n",
    "set1={4,5,6}\n",
    "set.update(set1)\n",
    "print(set)"
   ]
  },
  {
   "cell_type": "markdown",
   "metadata": {
    "id": "MMb-QgjymJ5h"
   },
   "source": [
    "**[Slide No. 43]**\n",
    "\n",
    "5. What is the output :\n",
    "\n",
    "my_set = {1, 3, 4, 5, 6}\n",
    "\n",
    "Explain the difference between discard and remove method in set"
   ]
  },
  {
   "cell_type": "code",
   "execution_count": 61,
   "metadata": {
    "colab": {
     "base_uri": "https://localhost:8080/"
    },
    "id": "aWiaJsGBn5X1",
    "outputId": "0d8df25c-f700-49e7-dea3-c2069cbd97bb"
   },
   "outputs": [
    {
     "name": "stdout",
     "output_type": "stream",
     "text": [
      "{3, 4, 5, 6}\n"
     ]
    }
   ],
   "source": [
    "#Discard method removes a specified element from the Set\n",
    "my_set = {1, 3, 4, 5, 6}\n",
    "my_set.discard(1)\n",
    "print(my_set)"
   ]
  },
  {
   "cell_type": "code",
   "execution_count": null,
   "metadata": {
    "colab": {
     "base_uri": "https://localhost:8080/"
    },
    "id": "20TlCVdVdKrX",
    "outputId": "37076d69-695c-4a95-c334-a8d2a78d1730"
   },
   "outputs": [
    {
     "name": "stdout",
     "output_type": "stream",
     "text": [
      "{1, 3, 5, 6}\n"
     ]
    }
   ],
   "source": [
    "#Remove method raises an error when the specified element doesn't exist in the given set\n",
    "my_set = {1, 3, 4, 5, 6}\n",
    "my_set.remove(4)\n",
    "print(my_set)"
   ]
  },
  {
   "cell_type": "markdown",
   "metadata": {
    "id": "232Wx7ZqmJ7u"
   },
   "source": [
    "**[Slide No. 42]**\n",
    "\n",
    "6. Write a program to remove duplicate value from set.\n"
   ]
  },
  {
   "cell_type": "code",
   "execution_count": 68,
   "metadata": {
    "colab": {
     "base_uri": "https://localhost:8080/"
    },
    "id": "0eDe4Ofln56S",
    "outputId": "7fa45ff2-aad1-4818-c587-8dc74b5e29d0"
   },
   "outputs": [
    {
     "name": "stdout",
     "output_type": "stream",
     "text": [
      "{1, 2, 3, 4, 5, 6}\n"
     ]
    }
   ],
   "source": [
    "set1={1,1,2,2,3,4,5,4,6,3}\n",
    "print(set1)"
   ]
  },
  {
   "cell_type": "markdown",
   "metadata": {
    "id": "UuFjaDp7mJ-0"
   },
   "source": [
    "7.  Write a Python program to clear a set."
   ]
  },
  {
   "cell_type": "code",
   "execution_count": 71,
   "metadata": {
    "colab": {
     "base_uri": "https://localhost:8080/"
    },
    "id": "2Wp51_BJn6XI",
    "outputId": "c0a06dd8-4a07-4d03-f647-f2a2eaddd093"
   },
   "outputs": [
    {
     "name": "stdout",
     "output_type": "stream",
     "text": [
      "set()\n"
     ]
    }
   ],
   "source": [
    "set1={'a','b',1,2,}\n",
    "set1.clear()\n",
    "print(set1)"
   ]
  },
  {
   "cell_type": "markdown",
   "metadata": {
    "id": "ymIOwvtSmKCN"
   },
   "source": [
    "**[Slide No. 43]**\n",
    "\n",
    "8. Write a program to add two set."
   ]
  },
  {
   "cell_type": "code",
   "execution_count": 76,
   "metadata": {
    "colab": {
     "base_uri": "https://localhost:8080/"
    },
    "id": "v7HfWA6On7DN",
    "outputId": "9acad088-be0f-4580-cbcb-f7b3f74ef323"
   },
   "outputs": [
    {
     "name": "stdout",
     "output_type": "stream",
     "text": [
      "{1, 2, 3, 4, 5, 6, 7, 8}\n"
     ]
    }
   ],
   "source": [
    "set1={1,2,3,4}\n",
    "set2={5,6,7,8}\n",
    "set3=set1.union(set2)\n",
    "print(set3)\n"
   ]
  },
  {
   "cell_type": "markdown",
   "metadata": {
    "id": "MYFq0syFmKFm"
   },
   "source": [
    "**[Slide No. 43]**\n",
    "\n",
    "9. What is the output of:\n",
    "\n",
    "months = set([\"January\",\"February\", \"March\", \"April\", \"May\", \"June\"])   \n",
    "\n",
    "print(\"\\nprinting the original set ... \")    \n",
    "\n",
    "-Q. Print the set month    \n",
    "\n",
    "print(\"\\nRemoving some months from the set...\");    \n",
    "\n",
    "-Q. Remove january  from the set    \n",
    "\n",
    "-Q. Remove may  from the set  \n",
    "\n",
    "\n",
    "print(\"\\nPrinting the modified set...\");    \n",
    "\n",
    "print(months)  \n",
    "\n"
   ]
  },
  {
   "cell_type": "code",
   "execution_count": 79,
   "metadata": {
    "colab": {
     "base_uri": "https://localhost:8080/"
    },
    "id": "YSeAk9Bin7ij",
    "outputId": "0740ba54-1b7f-4862-8e1a-ce218813e954"
   },
   "outputs": [
    {
     "name": "stdout",
     "output_type": "stream",
     "text": [
      "{'April', 'February', 'May', 'March', 'January', 'June'}\n"
     ]
    }
   ],
   "source": [
    "months ={\"January\",\"February\", \"March\", \"April\", \"May\", \"June\"}\n",
    "print(months)"
   ]
  },
  {
   "cell_type": "code",
   "execution_count": 88,
   "metadata": {
    "colab": {
     "base_uri": "https://localhost:8080/"
    },
    "id": "PowuNQwKk5BU",
    "outputId": "45333a4e-1e27-40ef-99cf-a800489aa67c"
   },
   "outputs": [
    {
     "name": "stdout",
     "output_type": "stream",
     "text": [
      "{'April', 'February', 'May', 'March', 'June'}\n"
     ]
    }
   ],
   "source": [
    "months ={\"January\",\"February\", \"March\", \"April\", \"May\", \"June\"}\n",
    "months.remove(\"January\")\n",
    "print(months)"
   ]
  },
  {
   "cell_type": "code",
   "execution_count": 86,
   "metadata": {
    "colab": {
     "base_uri": "https://localhost:8080/"
    },
    "id": "PJ3bkt1wk5c_",
    "outputId": "d065631c-4daa-4491-c310-eeded58f642c"
   },
   "outputs": [
    {
     "name": "stdout",
     "output_type": "stream",
     "text": [
      "{'April', 'February', 'March', 'January', 'June'}\n"
     ]
    }
   ],
   "source": [
    "months ={\"January\",\"February\", \"March\", \"April\", \"May\", \"June\"}\n",
    "months.remove(\"May\")\n",
    "print(months)"
   ]
  },
  {
   "cell_type": "markdown",
   "metadata": {
    "id": "OPGKae_wmKIy"
   },
   "source": [
    "**[Slide No. 44]**\n",
    "\n",
    "10. Find union of\n",
    "\n",
    "Days1 = {\"Monday\",\"Tuesday\",\"Wednesday\",\"Thursday\"}\n",
    "    \n",
    "Days2 = {\"Friday\",\"Saturday\",\"Sunday\"}   "
   ]
  },
  {
   "cell_type": "code",
   "execution_count": 93,
   "metadata": {
    "colab": {
     "base_uri": "https://localhost:8080/"
    },
    "id": "IJBJD9D106cY",
    "outputId": "a643c38f-cc47-4371-e8ea-1cf38b2efb6b"
   },
   "outputs": [
    {
     "name": "stdout",
     "output_type": "stream",
     "text": [
      "{'Tuesday', 'Sunday', 'Friday', 'Wednesday', 'Monday', 'Saturday', 'Thursday'}\n"
     ]
    }
   ],
   "source": [
    "Days1 = {\"Monday\",\"Tuesday\",\"Wednesday\",\"Thursday\"}\n",
    "Days2 = {\"Friday\",\"Saturday\",\"Sunday\"}\n",
    "days=Days1.union(Days2)\n",
    "print(days)"
   ]
  },
  {
   "cell_type": "markdown",
   "metadata": {
    "id": "VpAPmiIBoNaS"
   },
   "source": [
    "**[Slide No. 45]**\n",
    "\n",
    " 11. Write a Python program to create an intersection of sets."
   ]
  },
  {
   "cell_type": "code",
   "execution_count": 4,
   "metadata": {
    "colab": {
     "base_uri": "https://localhost:8080/"
    },
    "id": "MRzfzZ3bn8O0",
    "outputId": "49b78ebc-dce1-45ce-d543-ce83e46fc14c"
   },
   "outputs": [
    {
     "name": "stdout",
     "output_type": "stream",
     "text": [
      "{'a'}\n"
     ]
    }
   ],
   "source": [
    "set1={\"a\",\"b\",\"c\"}\n",
    "set2={\"a\", \"s\", \"d\", \"f\"}\n",
    "set3=set1.intersection(set2)\n",
    "print(set3)"
   ]
  },
  {
   "cell_type": "markdown",
   "metadata": {
    "id": "iIFHboGboH9v"
   },
   "source": [
    "**[Slide No. 45]**\n",
    "\n",
    "12. Write a Python program to create set difference."
   ]
  },
  {
   "cell_type": "code",
   "execution_count": 3,
   "metadata": {
    "colab": {
     "base_uri": "https://localhost:8080/"
    },
    "id": "E5RwOmVNtTie",
    "outputId": "d922afae-a1c4-4deb-9241-6ae8edd76d06"
   },
   "outputs": [
    {
     "name": "stdout",
     "output_type": "stream",
     "text": [
      "{'c', 'b'}\n"
     ]
    }
   ],
   "source": [
    "set1={\"a\",\"b\",\"c\"}\n",
    "set2={\"a\", \"s\", \"d\", \"f\"}\n",
    "set=set1.difference(set2)\n",
    "print(set)\n"
   ]
  }
 ],
 "metadata": {
  "colab": {
   "collapsed_sections": [],
   "name": "Set_Dtype.ipynb",
   "provenance": []
  },
  "kernelspec": {
   "display_name": "Python 3",
   "language": "python",
   "name": "python3"
  },
  "language_info": {
   "codemirror_mode": {
    "name": "ipython",
    "version": 3
   },
   "file_extension": ".py",
   "mimetype": "text/x-python",
   "name": "python",
   "nbconvert_exporter": "python",
   "pygments_lexer": "ipython3",
   "version": "3.8.8"
  }
 },
 "nbformat": 4,
 "nbformat_minor": 1
}
