{
 "cells": [
  {
   "cell_type": "markdown",
   "metadata": {
    "id": "xkS9gXm7JAwb"
   },
   "source": [
    "# Variable and Operator "
   ]
  },
  {
   "cell_type": "markdown",
   "metadata": {
    "id": "bpWJpSkLKLHd"
   },
   "source": [
    "**[Slide No.- 19]**\n",
    "\n",
    "1. Which one of the following is correct way of declaring and initialising a variable, x with value 5?\n",
    "\n",
    "A. int x\n",
    "  \n",
    "    x=5\n",
    "\n",
    "B. int x=5\n",
    "\n",
    "C. x=5\n",
    "\n",
    "D. declare x=5\n",
    "\n",
    "\n",
    "\n",
    "\n"
   ]
  },
  {
   "cell_type": "code",
   "execution_count": 8,
   "metadata": {
    "colab": {
     "base_uri": "https://localhost:8080/"
    },
    "id": "-gWs4ttlI3TT",
    "outputId": "851f1eb6-043f-472b-e293-e116086faeb2"
   },
   "outputs": [
    {
     "name": "stdout",
     "output_type": "stream",
     "text": [
      "5\n"
     ]
    }
   ],
   "source": [
    "x=5\n",
    "print(x)"
   ]
  },
  {
   "cell_type": "markdown",
   "metadata": {
    "id": "gpg53f-UKhi1"
   },
   "source": [
    "**[Slide No.-19]**\n",
    "\n",
    "2. Which of the following is not valid variable name in Python?\n",
    "\n",
    "A. _var = 6\n",
    "\n",
    "B. var_name = 6\n",
    "\n",
    "C. var11 = 6\n",
    "\n",
    "D. 11var = 6"
   ]
  },
  {
   "cell_type": "code",
   "execution_count": 17,
   "metadata": {
    "id": "4eFCqihlKg6W"
   },
   "outputs": [
    {
     "ename": "SyntaxError",
     "evalue": "invalid syntax (<ipython-input-17-e8b42c880da1>, line 1)",
     "output_type": "error",
     "traceback": [
      "\u001b[1;36m  File \u001b[1;32m\"<ipython-input-17-e8b42c880da1>\"\u001b[1;36m, line \u001b[1;32m1\u001b[0m\n\u001b[1;33m    11var=6\u001b[0m\n\u001b[1;37m      ^\u001b[0m\n\u001b[1;31mSyntaxError\u001b[0m\u001b[1;31m:\u001b[0m invalid syntax\n"
     ]
    }
   ],
   "source": [
    "11var=6"
   ]
  },
  {
   "cell_type": "markdown",
   "metadata": {
    "id": "uIU52OVeLOO2"
   },
   "source": [
    "**[Slide No.- 19]**\n",
    "\n",
    "\n",
    "3. Which of the following will give error?\n",
    "\n",
    "A. a=b=c=1\n",
    "\n",
    "B. a,b,c=1\n",
    "\n",
    "C. a b c=1, 4, 1.5\n",
    "\n",
    "D. None of the above"
   ]
  },
  {
   "cell_type": "code",
   "execution_count": 44,
   "metadata": {
    "colab": {
     "base_uri": "https://localhost:8080/",
     "height": 131
    },
    "id": "ZFU-przBLmgX",
    "outputId": "d06b3656-9cde-4800-830a-e3ba96c51e70"
   },
   "outputs": [
    {
     "ename": "TypeError",
     "evalue": "cannot unpack non-iterable int object",
     "output_type": "error",
     "traceback": [
      "\u001b[1;31m---------------------------------------------------------------------------\u001b[0m",
      "\u001b[1;31mTypeError\u001b[0m                                 Traceback (most recent call last)",
      "\u001b[1;32m<ipython-input-44-15d314ab1204>\u001b[0m in \u001b[0;36m<module>\u001b[1;34m\u001b[0m\n\u001b[1;32m----> 1\u001b[1;33m \u001b[0ma\u001b[0m\u001b[1;33m,\u001b[0m\u001b[0mb\u001b[0m\u001b[1;33m,\u001b[0m\u001b[0mc\u001b[0m\u001b[1;33m=\u001b[0m\u001b[1;36m1\u001b[0m\u001b[1;33m\u001b[0m\u001b[1;33m\u001b[0m\u001b[0m\n\u001b[0m",
      "\u001b[1;31mTypeError\u001b[0m: cannot unpack non-iterable int object"
     ]
    }
   ],
   "source": [
    "a,b,c=1"
   ]
  },
  {
   "cell_type": "code",
   "execution_count": 46,
   "metadata": {},
   "outputs": [
    {
     "ename": "SyntaxError",
     "evalue": "invalid syntax (<ipython-input-46-63b097473c79>, line 1)",
     "output_type": "error",
     "traceback": [
      "\u001b[1;36m  File \u001b[1;32m\"<ipython-input-46-63b097473c79>\"\u001b[1;36m, line \u001b[1;32m1\u001b[0m\n\u001b[1;33m    a b c=1,4,1.5\u001b[0m\n\u001b[1;37m      ^\u001b[0m\n\u001b[1;31mSyntaxError\u001b[0m\u001b[1;31m:\u001b[0m invalid syntax\n"
     ]
    }
   ],
   "source": [
    "a b c=1,4,1.5"
   ]
  },
  {
   "cell_type": "markdown",
   "metadata": {
    "id": "sOaKfvOMMdEw"
   },
   "source": [
    "**[Slide No.- 21]**\n",
    "\n",
    "4. What is the output of the following code\n",
    "\n",
    "x = 6\n",
    "\n",
    "y = 2\n",
    "\n",
    "a=print(x ** y)\n",
    "\n",
    "b= print(x // y)"
   ]
  },
  {
   "cell_type": "code",
   "execution_count": 58,
   "metadata": {
    "id": "8Y5nOCbuLywt"
   },
   "outputs": [
    {
     "name": "stdout",
     "output_type": "stream",
     "text": [
      "36\n",
      "3\n"
     ]
    }
   ],
   "source": [
    "x=6\n",
    "y=2\n",
    "a=print(x**y)\n",
    "b=print(x//y)"
   ]
  },
  {
   "cell_type": "markdown",
   "metadata": {
    "id": "-FxzjkhMNkZw"
   },
   "source": [
    "**[Slide No.-21]**\n",
    "\n",
    "# find the value of this expression (v+w) * x/ y\n",
    "v = 4\n",
    "\n",
    "w = 5\n",
    "\n",
    "x = 8\n",
    "\n",
    "\n",
    "y = 2\n",
    "\n",
    "z = 0"
   ]
  },
  {
   "cell_type": "code",
   "execution_count": 70,
   "metadata": {
    "id": "kx6gTDJWNjnT"
   },
   "outputs": [
    {
     "data": {
      "text/plain": [
       "36.0"
      ]
     },
     "execution_count": 70,
     "metadata": {},
     "output_type": "execute_result"
    }
   ],
   "source": [
    "v=4\n",
    "w=5\n",
    "x=8\n",
    "y=2\n",
    "z=0\n",
    "(v+w)*x/y"
   ]
  },
  {
   "cell_type": "markdown",
   "metadata": {
    "id": "KrG9aIGjN6C5"
   },
   "source": [
    "**[Slide No.- 21]**\n",
    "\n",
    "6. What is the output of print(10 - 4 * 2)"
   ]
  },
  {
   "cell_type": "code",
   "execution_count": 71,
   "metadata": {
    "colab": {
     "base_uri": "https://localhost:8080/"
    },
    "id": "VfvhDJ2zN5bg",
    "outputId": "617bc6cb-9135-4dcd-e553-e001ef9ef349"
   },
   "outputs": [
    {
     "name": "stdout",
     "output_type": "stream",
     "text": [
      "2\n"
     ]
    }
   ],
   "source": [
    "print(10-4*2)"
   ]
  },
  {
   "cell_type": "markdown",
   "metadata": {
    "id": "k3JGKOfQOBhQ"
   },
   "source": [
    "**[Slide No.-21]**\n",
    "\n",
    "7. What is the output of print(2 * 3 ** 3 * 4)"
   ]
  },
  {
   "cell_type": "code",
   "execution_count": 74,
   "metadata": {
    "colab": {
     "base_uri": "https://localhost:8080/"
    },
    "id": "BYuPgLHZOAr4",
    "outputId": "40382c03-1461-4452-f30b-b79b955c2b22"
   },
   "outputs": [
    {
     "name": "stdout",
     "output_type": "stream",
     "text": [
      "216\n"
     ]
    }
   ],
   "source": [
    "print(2 * 3 ** 3 * 4)"
   ]
  },
  {
   "cell_type": "markdown",
   "metadata": {
    "id": "xW2pUR61OMGp"
   },
   "source": [
    "8. What is the output of the expression  print(-18 // 4)"
   ]
  },
  {
   "cell_type": "code",
   "execution_count": 78,
   "metadata": {
    "colab": {
     "base_uri": "https://localhost:8080/"
    },
    "id": "nkDvUrFIOLWo",
    "outputId": "e37eadee-a23c-480d-e74d-6c86309f1c43"
   },
   "outputs": [
    {
     "name": "stdout",
     "output_type": "stream",
     "text": [
      "-5\n"
     ]
    }
   ],
   "source": [
    "print(-18 //4)"
   ]
  },
  {
   "cell_type": "markdown",
   "metadata": {
    "id": "jKsDtqzXOu1Y"
   },
   "source": [
    "**[Slide No.- 21]**\n",
    "\n",
    "9. Write a program to check 5 is less then 10 or greater then 3."
   ]
  },
  {
   "cell_type": "code",
   "execution_count": 81,
   "metadata": {
    "colab": {
     "base_uri": "https://localhost:8080/"
    },
    "id": "F-FwpWUMOuNU",
    "outputId": "df760df8-4516-4149-b887-04b7dc8df481"
   },
   "outputs": [
    {
     "name": "stdout",
     "output_type": "stream",
     "text": [
      "True\n"
     ]
    }
   ],
   "source": [
    "a,b,c=5,10,3\n",
    "print(a<b and a>c)"
   ]
  },
  {
   "cell_type": "markdown",
   "metadata": {
    "id": "tZ86dv17lJaf"
   },
   "source": [
    "10 . Write a program  by using 'and' ,'or' And 'not' operator ?"
   ]
  },
  {
   "cell_type": "code",
   "execution_count": 87,
   "metadata": {
    "colab": {
     "base_uri": "https://localhost:8080/"
    },
    "id": "q-veNPPBRsLj",
    "outputId": "5d115795-76e0-4370-e848-b67e3411391e"
   },
   "outputs": [
    {
     "name": "stdout",
     "output_type": "stream",
     "text": [
      "True\n",
      "True\n",
      "False\n"
     ]
    }
   ],
   "source": [
    "a,b,c=5,10,3\n",
    "print(a<b and a>c)\n",
    "print(a<b or a<c)\n",
    "print(not a<b and a>c)\n"
   ]
  },
  {
   "cell_type": "markdown",
   "metadata": {
    "id": "4h-oViRKvxJY"
   },
   "source": [
    "**[Slide No.- 27]**\n",
    "\n",
    "11. What is the output of the following assignment operator\n",
    "\n",
    "y = 10\n",
    "\n",
    "y += 2\n",
    "\n",
    "print(y)"
   ]
  },
  {
   "cell_type": "code",
   "execution_count": 90,
   "metadata": {
    "id": "rK0jrT2Kv4Do"
   },
   "outputs": [
    {
     "name": "stdout",
     "output_type": "stream",
     "text": [
      "12\n"
     ]
    }
   ],
   "source": [
    "y=10\n",
    "y+=2\n",
    "print(y)"
   ]
  },
  {
   "cell_type": "markdown",
   "metadata": {
    "id": "RodqAVuDRXcY"
   },
   "source": [
    "**[Slide No.-27]**\n",
    "\n",
    "12. What is the output of the code .\n",
    "\n",
    "x=5\n",
    "\n",
    "x +=x+4\n",
    "\n",
    "print(x)\n"
   ]
  },
  {
   "cell_type": "code",
   "execution_count": 94,
   "metadata": {
    "colab": {
     "base_uri": "https://localhost:8080/"
    },
    "id": "qZ7OH6KIRaJJ",
    "outputId": "20073ddf-3462-4817-b445-ab789f6767af"
   },
   "outputs": [
    {
     "name": "stdout",
     "output_type": "stream",
     "text": [
      "14\n"
     ]
    }
   ],
   "source": [
    "x=5\n",
    "x+=x+4\n",
    "print(x)"
   ]
  },
  {
   "cell_type": "markdown",
   "metadata": {
    "id": "ymG3gW4eT3F7"
   },
   "source": [
    "**[Slide No.-27]**\n",
    "\n",
    "13.  what is the output :\n",
    "\n",
    "y=7\n",
    "\n",
    "x  +=y+4\n",
    "\n",
    "print(x)"
   ]
  },
  {
   "cell_type": "code",
   "execution_count": 100,
   "metadata": {
    "colab": {
     "base_uri": "https://localhost:8080/"
    },
    "id": "4tW3Sr0bSOTK",
    "outputId": "9a08dd1e-d7dd-4b42-c35b-cf3e066f70c9"
   },
   "outputs": [
    {
     "name": "stdout",
     "output_type": "stream",
     "text": [
      "36\n"
     ]
    }
   ],
   "source": [
    "y=7\n",
    "x=25\n",
    "x+=y+4\n",
    "print(x)"
   ]
  }
 ],
 "metadata": {
  "colab": {
   "collapsed_sections": [],
   "name": "Variable_and_operator_.ipynb",
   "provenance": []
  },
  "kernelspec": {
   "display_name": "Python 3",
   "language": "python",
   "name": "python3"
  },
  "language_info": {
   "codemirror_mode": {
    "name": "ipython",
    "version": 3
   },
   "file_extension": ".py",
   "mimetype": "text/x-python",
   "name": "python",
   "nbconvert_exporter": "python",
   "pygments_lexer": "ipython3",
   "version": "3.8.8"
  }
 },
 "nbformat": 4,
 "nbformat_minor": 1
}
